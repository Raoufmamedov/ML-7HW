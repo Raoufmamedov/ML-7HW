{
 "cells": [
  {
   "cell_type": "code",
   "execution_count": 1,
   "id": "ef702885-9e0f-4449-bd4f-75b376644bc7",
   "metadata": {
    "execution": {
     "iopub.execute_input": "2022-10-15T00:57:16.585099Z",
     "iopub.status.busy": "2022-10-15T00:57:16.585099Z",
     "iopub.status.idle": "2022-10-15T00:57:19.103452Z",
     "shell.execute_reply": "2022-10-15T00:57:19.103452Z",
     "shell.execute_reply.started": "2022-10-15T00:57:16.585099Z"
    },
    "tags": []
   },
   "outputs": [],
   "source": [
    "import numpy as np \n",
    "import pandas as pd \n",
    "import matplotlib.pyplot as plt \n",
    "import seaborn as sns \n",
    "\n",
    "from sklearn import linear_model,  tree, ensemble, metrics\n",
    "from sklearn.model_selection import train_test_split, GridSearchCV, RandomizedSearchCV, cross_val_score\n",
    "import hyperopt\n",
    "from hyperopt import hp, fmin, tpe, Trials\n",
    "import optuna\n",
    "\n",
    "import warnings\n",
    "warnings.filterwarnings(\"ignore\")"
   ]
  },
  {
   "cell_type": "markdown",
   "id": "3dad0844-b85f-421f-90c2-3d18464fa5cb",
   "metadata": {},
   "source": [
    "Загрузим данные и проверим их на наличие пропусков"
   ]
  },
  {
   "cell_type": "code",
   "execution_count": 2,
   "id": "f3507b31-91e2-467e-aa44-ddd966891af5",
   "metadata": {
    "execution": {
     "iopub.execute_input": "2022-10-15T00:57:21.292146Z",
     "iopub.status.busy": "2022-10-15T00:57:21.292146Z",
     "iopub.status.idle": "2022-10-15T00:57:22.017925Z",
     "shell.execute_reply": "2022-10-15T00:57:22.016918Z",
     "shell.execute_reply.started": "2022-10-15T00:57:21.292146Z"
    },
    "tags": []
   },
   "outputs": [
    {
     "data": {
      "text/html": [
       "<div>\n",
       "<style scoped>\n",
       "    .dataframe tbody tr th:only-of-type {\n",
       "        vertical-align: middle;\n",
       "    }\n",
       "\n",
       "    .dataframe tbody tr th {\n",
       "        vertical-align: top;\n",
       "    }\n",
       "\n",
       "    .dataframe thead th {\n",
       "        text-align: right;\n",
       "    }\n",
       "</style>\n",
       "<table border=\"1\" class=\"dataframe\">\n",
       "  <thead>\n",
       "    <tr style=\"text-align: right;\">\n",
       "      <th></th>\n",
       "      <th>Activity</th>\n",
       "      <th>D1</th>\n",
       "      <th>D2</th>\n",
       "      <th>D3</th>\n",
       "      <th>D4</th>\n",
       "      <th>D5</th>\n",
       "      <th>D6</th>\n",
       "      <th>D7</th>\n",
       "      <th>D8</th>\n",
       "      <th>D9</th>\n",
       "      <th>...</th>\n",
       "      <th>D1767</th>\n",
       "      <th>D1768</th>\n",
       "      <th>D1769</th>\n",
       "      <th>D1770</th>\n",
       "      <th>D1771</th>\n",
       "      <th>D1772</th>\n",
       "      <th>D1773</th>\n",
       "      <th>D1774</th>\n",
       "      <th>D1775</th>\n",
       "      <th>D1776</th>\n",
       "    </tr>\n",
       "  </thead>\n",
       "  <tbody>\n",
       "    <tr>\n",
       "      <th>0</th>\n",
       "      <td>1</td>\n",
       "      <td>0.000000</td>\n",
       "      <td>0.497009</td>\n",
       "      <td>0.10</td>\n",
       "      <td>0.0</td>\n",
       "      <td>0.132956</td>\n",
       "      <td>0.678031</td>\n",
       "      <td>0.273166</td>\n",
       "      <td>0.585445</td>\n",
       "      <td>0.743663</td>\n",
       "      <td>...</td>\n",
       "      <td>0</td>\n",
       "      <td>0</td>\n",
       "      <td>0</td>\n",
       "      <td>0</td>\n",
       "      <td>0</td>\n",
       "      <td>0</td>\n",
       "      <td>0</td>\n",
       "      <td>0</td>\n",
       "      <td>0</td>\n",
       "      <td>0</td>\n",
       "    </tr>\n",
       "    <tr>\n",
       "      <th>1</th>\n",
       "      <td>1</td>\n",
       "      <td>0.366667</td>\n",
       "      <td>0.606291</td>\n",
       "      <td>0.05</td>\n",
       "      <td>0.0</td>\n",
       "      <td>0.111209</td>\n",
       "      <td>0.803455</td>\n",
       "      <td>0.106105</td>\n",
       "      <td>0.411754</td>\n",
       "      <td>0.836582</td>\n",
       "      <td>...</td>\n",
       "      <td>1</td>\n",
       "      <td>1</td>\n",
       "      <td>1</td>\n",
       "      <td>1</td>\n",
       "      <td>0</td>\n",
       "      <td>1</td>\n",
       "      <td>0</td>\n",
       "      <td>0</td>\n",
       "      <td>1</td>\n",
       "      <td>0</td>\n",
       "    </tr>\n",
       "    <tr>\n",
       "      <th>2</th>\n",
       "      <td>1</td>\n",
       "      <td>0.033300</td>\n",
       "      <td>0.480124</td>\n",
       "      <td>0.00</td>\n",
       "      <td>0.0</td>\n",
       "      <td>0.209791</td>\n",
       "      <td>0.610350</td>\n",
       "      <td>0.356453</td>\n",
       "      <td>0.517720</td>\n",
       "      <td>0.679051</td>\n",
       "      <td>...</td>\n",
       "      <td>0</td>\n",
       "      <td>0</td>\n",
       "      <td>0</td>\n",
       "      <td>0</td>\n",
       "      <td>0</td>\n",
       "      <td>0</td>\n",
       "      <td>0</td>\n",
       "      <td>0</td>\n",
       "      <td>0</td>\n",
       "      <td>0</td>\n",
       "    </tr>\n",
       "  </tbody>\n",
       "</table>\n",
       "<p>3 rows × 1777 columns</p>\n",
       "</div>"
      ],
      "text/plain": [
       "   Activity        D1        D2    D3   D4        D5        D6        D7  \\\n",
       "0         1  0.000000  0.497009  0.10  0.0  0.132956  0.678031  0.273166   \n",
       "1         1  0.366667  0.606291  0.05  0.0  0.111209  0.803455  0.106105   \n",
       "2         1  0.033300  0.480124  0.00  0.0  0.209791  0.610350  0.356453   \n",
       "\n",
       "         D8        D9  ...  D1767  D1768  D1769  D1770  D1771  D1772  D1773  \\\n",
       "0  0.585445  0.743663  ...      0      0      0      0      0      0      0   \n",
       "1  0.411754  0.836582  ...      1      1      1      1      0      1      0   \n",
       "2  0.517720  0.679051  ...      0      0      0      0      0      0      0   \n",
       "\n",
       "   D1774  D1775  D1776  \n",
       "0      0      0      0  \n",
       "1      0      1      0  \n",
       "2      0      0      0  \n",
       "\n",
       "[3 rows x 1777 columns]"
      ]
     },
     "execution_count": 2,
     "metadata": {},
     "output_type": "execute_result"
    }
   ],
   "source": [
    "data = pd.read_csv('_train_sem09__1_.zip')\n",
    "data.head(3)"
   ]
  },
  {
   "cell_type": "code",
   "execution_count": 3,
   "id": "83492349-6161-4976-bae5-c736192dcee9",
   "metadata": {
    "execution": {
     "iopub.execute_input": "2022-10-15T00:57:22.023898Z",
     "iopub.status.busy": "2022-10-15T00:57:22.022898Z",
     "iopub.status.idle": "2022-10-15T00:57:22.050890Z",
     "shell.execute_reply": "2022-10-15T00:57:22.049889Z",
     "shell.execute_reply.started": "2022-10-15T00:57:22.023898Z"
    },
    "tags": []
   },
   "outputs": [
    {
     "data": {
      "text/plain": [
       "0"
      ]
     },
     "execution_count": 3,
     "metadata": {},
     "output_type": "execute_result"
    }
   ],
   "source": [
    "(data.isna().sum()>0).sum()"
   ]
  },
  {
   "cell_type": "code",
   "execution_count": 4,
   "id": "ecbce4b0-1f84-45cb-aaa0-3741025cc930",
   "metadata": {
    "execution": {
     "iopub.execute_input": "2022-10-15T00:57:22.063885Z",
     "iopub.status.busy": "2022-10-15T00:57:22.063885Z",
     "iopub.status.idle": "2022-10-15T00:57:22.080898Z",
     "shell.execute_reply": "2022-10-15T00:57:22.079899Z",
     "shell.execute_reply.started": "2022-10-15T00:57:22.063885Z"
    },
    "tags": []
   },
   "outputs": [
    {
     "ename": "SyntaxError",
     "evalue": "invalid syntax (4293513285.py, line 1)",
     "output_type": "error",
     "traceback": [
      "\u001b[1;36m  File \u001b[1;32m\"C:\\Users\\User\\AppData\\Local\\Temp\\ipykernel_23704\\4293513285.py\"\u001b[1;36m, line \u001b[1;32m1\u001b[0m\n\u001b[1;33m    Смотрим насколько наши данные сбалансированы.\u001b[0m\n\u001b[1;37m            ^\u001b[0m\n\u001b[1;31mSyntaxError\u001b[0m\u001b[1;31m:\u001b[0m invalid syntax\n"
     ]
    }
   ],
   "source": [
    "Смотрим насколько наши данные сбалансированы."
   ]
  },
  {
   "cell_type": "code",
   "execution_count": 5,
   "id": "b9d96909-3cc4-4b28-b860-422ddfdf480d",
   "metadata": {
    "execution": {
     "iopub.execute_input": "2022-10-15T00:57:22.174891Z",
     "iopub.status.busy": "2022-10-15T00:57:22.174891Z",
     "iopub.status.idle": "2022-10-15T00:57:22.297610Z",
     "shell.execute_reply": "2022-10-15T00:57:22.297610Z",
     "shell.execute_reply.started": "2022-10-15T00:57:22.174891Z"
    },
    "tags": []
   },
   "outputs": [
    {
     "data": {
      "text/plain": [
       "<AxesSubplot:ylabel='Activity'>"
      ]
     },
     "execution_count": 5,
     "metadata": {},
     "output_type": "execute_result"
    },
    {
     "data": {
      "image/png": "[encoded data removed]",
      "text/plain": [
       "<Figure size 640x480 with 1 Axes>"
      ]
     },
     "metadata": {},
     "output_type": "display_data"
    }
   ],
   "source": [
    "data.Activity.value_counts(True).plot.pie(autopct='%1.0f%%')"
   ]
  },
  {
   "cell_type": "markdown",
   "id": "46f16070-5228-4219-b61e-d1dce4f27730",
   "metadata": {
    "execution": {
     "iopub.execute_input": "2022-10-14T23:52:27.834178Z",
     "iopub.status.busy": "2022-10-14T23:52:27.834178Z",
     "iopub.status.idle": "2022-10-14T23:52:27.852171Z",
     "shell.execute_reply": "2022-10-14T23:52:27.851189Z",
     "shell.execute_reply.started": "2022-10-14T23:52:27.834178Z"
    }
   },
   "source": [
    "Данные можно считать сбалансированными, но мы всё-таки проведём стратификацию."
   ]
  },
  {
   "cell_type": "code",
   "execution_count": 62,
   "id": "20016708-e7e1-4ad5-b4e9-edea852cde90",
   "metadata": {
    "execution": {
     "iopub.execute_input": "2022-10-15T02:52:16.725042Z",
     "iopub.status.busy": "2022-10-15T02:52:16.725042Z",
     "iopub.status.idle": "2022-10-15T02:52:16.948972Z",
     "shell.execute_reply": "2022-10-15T02:52:16.947981Z",
     "shell.execute_reply.started": "2022-10-15T02:52:16.725042Z"
    },
    "tags": []
   },
   "outputs": [],
   "source": [
    "X = data.loc[:, data.columns!='Activity']\n",
    "y = data['Activity']"
   ]
  },
  {
   "cell_type": "code",
   "execution_count": 63,
   "id": "62e179ba-89a1-4a76-90ad-a9f05e88854d",
   "metadata": {
    "execution": {
     "iopub.execute_input": "2022-10-15T02:52:17.513787Z",
     "iopub.status.busy": "2022-10-15T02:52:17.513787Z",
     "iopub.status.idle": "2022-10-15T02:52:17.617754Z",
     "shell.execute_reply": "2022-10-15T02:52:17.616754Z",
     "shell.execute_reply.started": "2022-10-15T02:52:17.513787Z"
    },
    "tags": []
   },
   "outputs": [
    {
     "data": {
      "text/plain": [
       "[(3000, 1776), (751, 1776), (3000,), (751,)]"
      ]
     },
     "execution_count": 63,
     "metadata": {},
     "output_type": "execute_result"
    }
   ],
   "source": [
    "splits = train_test_split(X, y, stratify=data.Activity, random_state = 1, test_size = 0.2)\n",
    "X_train, X_test, y_train, y_test=splits\n",
    "list(split.shape for split in splits)"
   ]
  },
  {
   "cell_type": "code",
   "execution_count": null,
   "id": "a3d73340-3b8e-4250-b0fe-6bc34c5318e3",
   "metadata": {
    "tags": []
   },
   "outputs": [],
   "source": []
  },
  {
   "cell_type": "markdown",
   "id": "2f188c41-ac83-408f-a48d-f3b618d3403d",
   "metadata": {},
   "source": [
    "### Логистическая регрессия"
   ]
  },
  {
   "cell_type": "code",
   "execution_count": 64,
   "id": "016404ba-19f0-4f72-8d14-212071c21598",
   "metadata": {
    "execution": {
     "iopub.execute_input": "2022-10-15T02:52:18.600763Z",
     "iopub.status.busy": "2022-10-15T02:52:18.600763Z",
     "iopub.status.idle": "2022-10-15T02:52:18.964646Z",
     "shell.execute_reply": "2022-10-15T02:52:18.964646Z",
     "shell.execute_reply.started": "2022-10-15T02:52:18.600763Z"
    },
    "tags": []
   },
   "outputs": [
    {
     "name": "stdout",
     "output_type": "stream",
     "text": [
      "f1_score на тесте: 0.79\n"
     ]
    }
   ],
   "source": [
    "# Создаем и обучаем логистическую регрессию без подбора гиперпараметров\n",
    "logr = linear_model.LogisticRegression(random_state=42, max_iter=50)\n",
    "logr.fit(X_train, y_train)\n",
    "y_test_pred = logr.predict(X_test)\n",
    "print('f1_score на тесте: {:.2f}'.format(metrics.f1_score(y_test, y_test_pred)))"
   ]
  },
  {
   "cell_type": "markdown",
   "id": "956b5732-d193-409f-ab7e-abe729e54399",
   "metadata": {
    "execution": {
     "iopub.execute_input": "2022-10-15T00:06:09.581021Z",
     "iopub.status.busy": "2022-10-15T00:06:09.580034Z",
     "iopub.status.idle": "2022-10-15T00:06:09.594016Z",
     "shell.execute_reply": "2022-10-15T00:06:09.593016Z",
     "shell.execute_reply.started": "2022-10-15T00:06:09.581021Z"
    }
   },
   "source": [
    "#### GridSearchCV"
   ]
  },
  {
   "cell_type": "code",
   "execution_count": null,
   "id": "86283efa-d54e-45af-9827-6f38579103c3",
   "metadata": {
    "tags": []
   },
   "outputs": [],
   "source": []
  },
  {
   "cell_type": "code",
   "execution_count": 65,
   "id": "427abbf1-84c1-4504-a3b2-4bd39bf1082f",
   "metadata": {
    "execution": {
     "iopub.execute_input": "2022-10-15T02:52:22.191862Z",
     "iopub.status.busy": "2022-10-15T02:52:22.191862Z",
     "iopub.status.idle": "2022-10-15T02:54:09.609461Z",
     "shell.execute_reply": "2022-10-15T02:54:09.607462Z",
     "shell.execute_reply.started": "2022-10-15T02:52:22.191862Z"
    },
    "tags": []
   },
   "outputs": [
    {
     "name": "stdout",
     "output_type": "stream",
     "text": [
      "Wall time: 1min 46s\n"
     ]
    },
    {
     "data": {
      "text/html": [
       "<style>#sk-container-id-1 {color: black;background-color: white;}#sk-container-id-1 pre{padding: 0;}#sk-container-id-1 div.sk-toggleable {background-color: white;}#sk-container-id-1 label.sk-toggleable__label {cursor: pointer;display: block;width: 100%;margin-bottom: 0;padding: 0.3em;box-sizing: border-box;text-align: center;}#sk-container-id-1 label.sk-toggleable__label-arrow:before {content: \"▸\";float: left;margin-right: 0.25em;color: #696969;}#sk-container-id-1 label.sk-toggleable__label-arrow:hover:before {color: black;}#sk-container-id-1 div.sk-estimator:hover label.sk-toggleable__label-arrow:before {color: black;}#sk-container-id-1 div.sk-toggleable__content {max-height: 0;max-width: 0;overflow: hidden;text-align: left;background-color: #f0f8ff;}#sk-container-id-1 div.sk-toggleable__content pre {margin: 0.2em;color: black;border-radius: 0.25em;background-color: #f0f8ff;}#sk-container-id-1 input.sk-toggleable__control:checked~div.sk-toggleable__content {max-height: 200px;max-width: 100%;overflow: auto;}#sk-container-id-1 input.sk-toggleable__control:checked~label.sk-toggleable__label-arrow:before {content: \"▾\";}#sk-container-id-1 div.sk-estimator input.sk-toggleable__control:checked~label.sk-toggleable__label {background-color: #d4ebff;}#sk-container-id-1 div.sk-label input.sk-toggleable__control:checked~label.sk-toggleable__label {background-color: #d4ebff;}#sk-container-id-1 input.sk-hidden--visually {border: 0;clip: rect(1px 1px 1px 1px);clip: rect(1px, 1px, 1px, 1px);height: 1px;margin: -1px;overflow: hidden;padding: 0;position: absolute;width: 1px;}#sk-container-id-1 div.sk-estimator {font-family: monospace;background-color: #f0f8ff;border: 1px dotted black;border-radius: 0.25em;box-sizing: border-box;margin-bottom: 0.5em;}#sk-container-id-1 div.sk-estimator:hover {background-color: #d4ebff;}#sk-container-id-1 div.sk-parallel-item::after {content: \"\";width: 100%;border-bottom: 1px solid gray;flex-grow: 1;}#sk-container-id-1 div.sk-label:hover label.sk-toggleable__label {background-color: #d4ebff;}#sk-container-id-1 div.sk-serial::before {content: \"\";position: absolute;border-left: 1px solid gray;box-sizing: border-box;top: 0;bottom: 0;left: 50%;z-index: 0;}#sk-container-id-1 div.sk-serial {display: flex;flex-direction: column;align-items: center;background-color: white;padding-right: 0.2em;padding-left: 0.2em;position: relative;}#sk-container-id-1 div.sk-item {position: relative;z-index: 1;}#sk-container-id-1 div.sk-parallel {display: flex;align-items: stretch;justify-content: center;background-color: white;position: relative;}#sk-container-id-1 div.sk-item::before, #sk-container-id-1 div.sk-parallel-item::before {content: \"\";position: absolute;border-left: 1px solid gray;box-sizing: border-box;top: 0;bottom: 0;left: 50%;z-index: -1;}#sk-container-id-1 div.sk-parallel-item {display: flex;flex-direction: column;z-index: 1;position: relative;background-color: white;}#sk-container-id-1 div.sk-parallel-item:first-child::after {align-self: flex-end;width: 50%;}#sk-container-id-1 div.sk-parallel-item:last-child::after {align-self: flex-start;width: 50%;}#sk-container-id-1 div.sk-parallel-item:only-child::after {width: 0;}#sk-container-id-1 div.sk-dashed-wrapped {border: 1px dashed gray;margin: 0 0.4em 0.5em 0.4em;box-sizing: border-box;padding-bottom: 0.4em;background-color: white;}#sk-container-id-1 div.sk-label label {font-family: monospace;font-weight: bold;display: inline-block;line-height: 1.2em;}#sk-container-id-1 div.sk-label-container {text-align: center;}#sk-container-id-1 div.sk-container {/* jupyter's `normalize.less` sets `[hidden] { display: none; }` but bootstrap.min.css set `[hidden] { display: none !important; }` so we also need the `!important` here to be able to override the default hidden behavior on the sphinx rendered scikit-learn.org. See: https://github.com/scikit-learn/scikit-learn/issues/21755 */display: inline-block !important;position: relative;}#sk-container-id-1 div.sk-text-repr-fallback {display: none;}</style><div id=\"sk-container-id-1\" class=\"sk-top-container\"><div class=\"sk-text-repr-fallback\"><pre>GridSearchCV(cv=5, estimator=LogisticRegression(max_iter=50, random_state=42),\n",
       "             n_jobs=-1,\n",
       "             param_grid=[{&#x27;C&#x27;: [0.01, 0.1, 0.3, 0.5, 0.7, 0.9, 1],\n",
       "                          &#x27;penalty&#x27;: [&#x27;l2&#x27;, &#x27;none&#x27;],\n",
       "                          &#x27;solver&#x27;: [&#x27;lbfgs&#x27;, &#x27;sag&#x27;]},\n",
       "                         {&#x27;C&#x27;: [0.01, 0.1, 0.3, 0.5, 0.7, 0.9, 1],\n",
       "                          &#x27;penalty&#x27;: [&#x27;l1&#x27;, &#x27;l2&#x27;],\n",
       "                          &#x27;solver&#x27;: [&#x27;liblinear&#x27;, &#x27;saga&#x27;]}])</pre><b>In a Jupyter environment, please rerun this cell to show the HTML representation or trust the notebook. <br />On GitHub, the HTML representation is unable to render, please try loading this page with nbviewer.org.</b></div><div class=\"sk-container\" hidden><div class=\"sk-item sk-dashed-wrapped\"><div class=\"sk-label-container\"><div class=\"sk-label sk-toggleable\"><input class=\"sk-toggleable__control sk-hidden--visually\" id=\"sk-estimator-id-1\" type=\"checkbox\" ><label for=\"sk-estimator-id-1\" class=\"sk-toggleable__label sk-toggleable__label-arrow\">GridSearchCV</label><div class=\"sk-toggleable__content\"><pre>GridSearchCV(cv=5, estimator=LogisticRegression(max_iter=50, random_state=42),\n",
       "             n_jobs=-1,\n",
       "             param_grid=[{&#x27;C&#x27;: [0.01, 0.1, 0.3, 0.5, 0.7, 0.9, 1],\n",
       "                          &#x27;penalty&#x27;: [&#x27;l2&#x27;, &#x27;none&#x27;],\n",
       "                          &#x27;solver&#x27;: [&#x27;lbfgs&#x27;, &#x27;sag&#x27;]},\n",
       "                         {&#x27;C&#x27;: [0.01, 0.1, 0.3, 0.5, 0.7, 0.9, 1],\n",
       "                          &#x27;penalty&#x27;: [&#x27;l1&#x27;, &#x27;l2&#x27;],\n",
       "                          &#x27;solver&#x27;: [&#x27;liblinear&#x27;, &#x27;saga&#x27;]}])</pre></div></div></div><div class=\"sk-parallel\"><div class=\"sk-parallel-item\"><div class=\"sk-item\"><div class=\"sk-label-container\"><div class=\"sk-label sk-toggleable\"><input class=\"sk-toggleable__control sk-hidden--visually\" id=\"sk-estimator-id-2\" type=\"checkbox\" ><label for=\"sk-estimator-id-2\" class=\"sk-toggleable__label sk-toggleable__label-arrow\">estimator: LogisticRegression</label><div class=\"sk-toggleable__content\"><pre>LogisticRegression(max_iter=50, random_state=42)</pre></div></div></div><div class=\"sk-serial\"><div class=\"sk-item\"><div class=\"sk-estimator sk-toggleable\"><input class=\"sk-toggleable__control sk-hidden--visually\" id=\"sk-estimator-id-3\" type=\"checkbox\" ><label for=\"sk-estimator-id-3\" class=\"sk-toggleable__label sk-toggleable__label-arrow\">LogisticRegression</label><div class=\"sk-toggleable__content\"><pre>LogisticRegression(max_iter=50, random_state=42)</pre></div></div></div></div></div></div></div></div></div></div>"
      ],
      "text/plain": [
       "GridSearchCV(cv=5, estimator=LogisticRegression(max_iter=50, random_state=42),\n",
       "             n_jobs=-1,\n",
       "             param_grid=[{'C': [0.01, 0.1, 0.3, 0.5, 0.7, 0.9, 1],\n",
       "                          'penalty': ['l2', 'none'],\n",
       "                          'solver': ['lbfgs', 'sag']},\n",
       "                         {'C': [0.01, 0.1, 0.3, 0.5, 0.7, 0.9, 1],\n",
       "                          'penalty': ['l1', 'l2'],\n",
       "                          'solver': ['liblinear', 'saga']}])"
      ]
     },
     "execution_count": 65,
     "metadata": {},
     "output_type": "execute_result"
    }
   ],
   "source": [
    "param_grid = [\n",
    "              {'penalty': ['l2', 'none'] ,\n",
    "              'solver': ['lbfgs', 'sag'],\n",
    "               'C': [0.01, 0.1, 0.3, 0.5, 0.7, 0.9, 1]},\n",
    "              \n",
    "              {'penalty': ['l1', 'l2'] ,\n",
    "              'solver': ['liblinear', 'saga'],\n",
    "               'C': [0.01, 0.1, 0.3, 0.5, 0.7, 0.9, 1]}]\n",
    "\n",
    "grid_search_log = GridSearchCV(\n",
    "    estimator=linear_model.LogisticRegression(random_state=42, max_iter=50), \n",
    "    param_grid=param_grid, cv=5, n_jobs = -1)  \n",
    "%time grid_search_log.fit(X_train, y_train) "
   ]
  },
  {
   "cell_type": "code",
   "execution_count": 66,
   "id": "1eeea9a5-e418-4ce1-8159-8691decff618",
   "metadata": {
    "execution": {
     "iopub.execute_input": "2022-10-15T02:54:09.680439Z",
     "iopub.status.busy": "2022-10-15T02:54:09.680439Z",
     "iopub.status.idle": "2022-10-15T02:54:09.806399Z",
     "shell.execute_reply": "2022-10-15T02:54:09.801401Z",
     "shell.execute_reply.started": "2022-10-15T02:54:09.680439Z"
    },
    "tags": []
   },
   "outputs": [],
   "source": [
    "y_test_pred = grid_search_log.predict(X_test)"
   ]
  },
  {
   "cell_type": "code",
   "execution_count": 67,
   "id": "d70b87a0-f145-4992-8123-671dfc6ed9b9",
   "metadata": {
    "execution": {
     "iopub.execute_input": "2022-10-15T02:54:09.846386Z",
     "iopub.status.busy": "2022-10-15T02:54:09.846386Z",
     "iopub.status.idle": "2022-10-15T02:54:09.876377Z",
     "shell.execute_reply": "2022-10-15T02:54:09.875376Z",
     "shell.execute_reply.started": "2022-10-15T02:54:09.846386Z"
    },
    "tags": []
   },
   "outputs": [
    {
     "name": "stdout",
     "output_type": "stream",
     "text": [
      "f1_score на тесте: 0.79\n",
      "Оптимальные значения гиперпараметров: {'C': 0.1, 'penalty': 'l2', 'solver': 'lbfgs'}\n"
     ]
    }
   ],
   "source": [
    "print('f1_score на тесте: {:.2f}'.format(metrics.f1_score(y_test, y_test_pred)))\n",
    "print(\"Оптимальные значения гиперпараметров: {}\".format(grid_search_log.best_params_))"
   ]
  },
  {
   "cell_type": "markdown",
   "id": "92f704ab-7646-4781-a501-84f62037c138",
   "metadata": {},
   "source": [
    "#### Random_search"
   ]
  },
  {
   "cell_type": "code",
   "execution_count": 68,
   "id": "53d2ca1c-30b6-4914-b56d-8c2efcf24994",
   "metadata": {
    "execution": {
     "iopub.execute_input": "2022-10-15T02:54:09.884374Z",
     "iopub.status.busy": "2022-10-15T02:54:09.884374Z",
     "iopub.status.idle": "2022-10-15T02:55:15.180114Z",
     "shell.execute_reply": "2022-10-15T02:55:15.179112Z",
     "shell.execute_reply.started": "2022-10-15T02:54:09.884374Z"
    },
    "tags": []
   },
   "outputs": [
    {
     "name": "stdout",
     "output_type": "stream",
     "text": [
      "Wall time: 1min 5s\n",
      "f1_score на тесте: 0.79\n",
      "Оптимальные значения гиперпараметров: {'solver': 'sag', 'penalty': 'l2', 'C': 0.12}\n"
     ]
    }
   ],
   "source": [
    "param_grid = {'penalty': ['l2', 'none'],\n",
    "              'solver': ['lbfgs', 'sag'],\n",
    "               'C': list(np.linspace(0.01, 1, 10, dtype=float))},\n",
    "            \n",
    "random_search_log = RandomizedSearchCV(\n",
    "    estimator=linear_model.LogisticRegression(random_state=42, max_iter=50), \n",
    "    param_distributions=param_grid, \n",
    "    cv=5, \n",
    "    n_iter = 50, \n",
    "    n_jobs = -1\n",
    ")  \n",
    "%time random_search_log.fit(X_train, y_train) \n",
    "y_test_pred = random_search_log.predict(X_test)\n",
    "print('f1_score на тесте: {:.2f}'.format(metrics.f1_score(y_test, y_test_pred)))\n",
    "print(\"Оптимальные значения гиперпараметров: {}\".format(random_search_log.best_params_))"
   ]
  },
  {
   "cell_type": "markdown",
   "id": "ba5c027b-7869-4808-8c73-a01d58baf16e",
   "metadata": {},
   "source": [
    "#### Hyperopt"
   ]
  },
  {
   "cell_type": "code",
   "execution_count": 69,
   "id": "854bf159-b9cf-49c8-9dea-bddf6378896e",
   "metadata": {
    "execution": {
     "iopub.execute_input": "2022-10-15T02:55:15.199107Z",
     "iopub.status.busy": "2022-10-15T02:55:15.199107Z",
     "iopub.status.idle": "2022-10-15T02:57:54.585815Z",
     "shell.execute_reply": "2022-10-15T02:57:54.583815Z",
     "shell.execute_reply.started": "2022-10-15T02:55:15.199107Z"
    },
    "tags": []
   },
   "outputs": [
    {
     "name": "stderr",
     "output_type": "stream",
     "text": [
      "TPE is being used as the default algorithm.\n"
     ]
    },
    {
     "name": "stdout",
     "output_type": "stream",
     "text": [
      "100%|██████████| 50/50 [02:39<00:00,  3.19s/trial, best loss: -0.7847018881272774]\n",
      "Оптимальные значения гиперпараметров {'C': 4, 'penalty': 0, 'solver': 0}\n"
     ]
    }
   ],
   "source": [
    "space={'penalty': hp.choice('penalty', ['l2', 'none']),\n",
    "       'solver' : hp.choice('solver', ['saga', 'sag', 'lbfgs']),\n",
    "       'C': hp.choice('C', {0.01,0.02,0.03,0.04,0.05,0.07,0.09,1})}  \n",
    "\n",
    "random_state = 42\n",
    "def hyperopt_rf(params, cv=5, X=X_train, y=y_train, random_state=random_state):\n",
    "    params = {'penalty': params['penalty'], \n",
    "              'solver': params['solver'],\n",
    "             'C': params['C']}\n",
    "    model = linear_model.LogisticRegression(**params, random_state=42, max_iter=50)\n",
    "    # Проводим кросс-валидацию на 5 фолдах.\n",
    "    score = cross_val_score(model, X, y, cv=cv, scoring=\"f1\", n_jobs=-1).mean()\n",
    "\n",
    "    # меняем знак метрики\n",
    "    return -score\n",
    "\n",
    "# Перебираем гиперпараметры\n",
    "trials = Trials()\n",
    "\n",
    "best=fmin(hyperopt_rf,\n",
    "          space=space,\n",
    "          # algo=tpe.suggest,\n",
    "          max_evals=50,\n",
    "          trials=trials,\n",
    "          rstate=np.random.default_rng(random_state))\n",
    "print(\"Оптимальные значения гиперпараметров {}\".format(best))"
   ]
  },
  {
   "cell_type": "code",
   "execution_count": 70,
   "id": "8dfb674d-3cd8-4807-bcc7-ac8fa906ac0b",
   "metadata": {
    "execution": {
     "iopub.execute_input": "2022-10-15T02:57:54.593813Z",
     "iopub.status.busy": "2022-10-15T02:57:54.592813Z",
     "iopub.status.idle": "2022-10-15T02:57:54.617804Z",
     "shell.execute_reply": "2022-10-15T02:57:54.616804Z",
     "shell.execute_reply.started": "2022-10-15T02:57:54.593813Z"
    }
   },
   "outputs": [
    {
     "name": "stdout",
     "output_type": "stream",
     "text": [
      "Наилучшие значения гиперпараметров {'n_estimators': 280, 'max_depth': 40, 'min_samples_leaf': 2}\n",
      "f1_score на обучающем наборе: 0.81\n"
     ]
    }
   ],
   "source": [
    "print(\"Наилучшие значения гиперпараметров {}\".format(study.best_params))\n",
    "print(\"f1_score на обучающем наборе: {:.2f}\".format(study.best_value))"
   ]
  },
  {
   "cell_type": "code",
   "execution_count": 71,
   "id": "c3d12a04-c5aa-44bf-b79d-4d8ae9ecf04b",
   "metadata": {
    "execution": {
     "iopub.execute_input": "2022-10-15T02:57:54.625801Z",
     "iopub.status.busy": "2022-10-15T02:57:54.625801Z",
     "iopub.status.idle": "2022-10-15T02:57:57.468893Z",
     "shell.execute_reply": "2022-10-15T02:57:57.468893Z",
     "shell.execute_reply.started": "2022-10-15T02:57:54.625801Z"
    },
    "tags": []
   },
   "outputs": [
    {
     "name": "stdout",
     "output_type": "stream",
     "text": [
      "f1_score на обучающем наборе: 0.84\n",
      "f1_score на тестовом наборе: 0.80\n"
     ]
    }
   ],
   "source": [
    "# Вычислим оценку f1 на тесте\n",
    "\n",
    "\n",
    "model = linear_model.LogisticRegression(penalty=\"l2\", solver=\"saga\", C=0.05, random_state=42, max_iter=50)\n",
    "model.fit(X_train, y_train)\n",
    "y_train_pred = model.predict(X_train)\n",
    "print('f1_score на обучающем наборе: {:.2f}'.format(metrics.f1_score(y_train, y_train_pred)))\n",
    "\n",
    "y_test_pred = model.predict(X_test)\n",
    "print('f1_score на тестовом наборе: {:.2f}'.format(metrics.f1_score(y_test, y_test_pred)))"
   ]
  },
  {
   "cell_type": "markdown",
   "id": "48e8478a-0066-4cad-a9f3-79ae152d95ef",
   "metadata": {
    "execution": {
     "iopub.execute_input": "2022-10-15T01:39:25.957080Z",
     "iopub.status.busy": "2022-10-15T01:39:25.957080Z",
     "iopub.status.idle": "2022-10-15T01:39:25.962078Z",
     "shell.execute_reply": "2022-10-15T01:39:25.962078Z",
     "shell.execute_reply.started": "2022-10-15T01:39:25.957080Z"
    }
   },
   "source": [
    "#### Optuna"
   ]
  },
  {
   "cell_type": "code",
   "execution_count": 72,
   "id": "e1be8468-803c-40f2-9870-b38e49c5695f",
   "metadata": {
    "execution": {
     "iopub.execute_input": "2022-10-15T02:57:57.474891Z",
     "iopub.status.busy": "2022-10-15T02:57:57.474891Z",
     "iopub.status.idle": "2022-10-15T02:57:57.484888Z",
     "shell.execute_reply": "2022-10-15T02:57:57.484888Z",
     "shell.execute_reply.started": "2022-10-15T02:57:57.474891Z"
    },
    "tags": []
   },
   "outputs": [],
   "source": [
    "def optuna_lr(trial):\n",
    "    penalty = trial.suggest_categorical('penalty', ['l2', 'none'])\n",
    "    solver = trial.suggest_categorical('solver', ['lbfgs', 'sag'])\n",
    "    C = trial.suggest_float('C', 0.01, 1)\n",
    "    model = linear_model.LogisticRegression(penalty=penalty,\n",
    "                                          solver=solver,\n",
    "                                          C=C,\n",
    "                                          random_state=42,\n",
    "                                          max_iter=50)\n",
    "\n",
    "    score = cross_val_score(model, X_train, y_train, cv=5, scoring=\"f1\", n_jobs=-1).mean()\n",
    "\n",
    "    return score"
   ]
  },
  {
   "cell_type": "code",
   "execution_count": 73,
   "id": "5d1392a8-3bb4-4a72-95f4-e97eaffe69b0",
   "metadata": {
    "execution": {
     "iopub.execute_input": "2022-10-15T02:57:57.488886Z",
     "iopub.status.busy": "2022-10-15T02:57:57.488886Z",
     "iopub.status.idle": "2022-10-15T03:00:22.209461Z",
     "shell.execute_reply": "2022-10-15T03:00:22.206462Z",
     "shell.execute_reply.started": "2022-10-15T02:57:57.488886Z"
    },
    "tags": []
   },
   "outputs": [
    {
     "name": "stderr",
     "output_type": "stream",
     "text": [
      "\u001b[32m[I 2022-10-15 05:57:57,512]\u001b[0m A new study created in memory with name: LogisticRegression\u001b[0m\n",
      "\u001b[32m[I 2022-10-15 05:57:59,033]\u001b[0m Trial 0 finished with value: 0.77352434990562 and parameters: {'penalty': 'l2', 'solver': 'lbfgs', 'C': 0.42974363822756145}. Best is trial 0 with value: 0.77352434990562.\u001b[0m\n",
      "\u001b[32m[I 2022-10-15 05:58:00,656]\u001b[0m Trial 1 finished with value: 0.7525843675694686 and parameters: {'penalty': 'none', 'solver': 'lbfgs', 'C': 0.4210359138411458}. Best is trial 0 with value: 0.77352434990562.\u001b[0m\n",
      "\u001b[32m[I 2022-10-15 05:58:02,408]\u001b[0m Trial 2 finished with value: 0.7525843675694686 and parameters: {'penalty': 'none', 'solver': 'lbfgs', 'C': 0.7227328511529179}. Best is trial 0 with value: 0.77352434990562.\u001b[0m\n",
      "\u001b[32m[I 2022-10-15 05:58:05,765]\u001b[0m Trial 3 finished with value: 0.7821820948013027 and parameters: {'penalty': 'l2', 'solver': 'sag', 'C': 0.14190220742225748}. Best is trial 3 with value: 0.7821820948013027.\u001b[0m\n",
      "\u001b[32m[I 2022-10-15 05:58:07,576]\u001b[0m Trial 4 finished with value: 0.7705528742753971 and parameters: {'penalty': 'l2', 'solver': 'lbfgs', 'C': 0.6577114949360188}. Best is trial 3 with value: 0.7821820948013027.\u001b[0m\n",
      "\u001b[32m[I 2022-10-15 05:58:09,331]\u001b[0m Trial 5 finished with value: 0.7822531497793024 and parameters: {'penalty': 'l2', 'solver': 'lbfgs', 'C': 0.07060680830373438}. Best is trial 5 with value: 0.7822531497793024.\u001b[0m\n",
      "\u001b[32m[I 2022-10-15 05:58:14,760]\u001b[0m Trial 6 finished with value: 0.7683043585976091 and parameters: {'penalty': 'none', 'solver': 'sag', 'C': 0.6659021597712594}. Best is trial 5 with value: 0.7822531497793024.\u001b[0m\n",
      "\u001b[32m[I 2022-10-15 05:58:18,314]\u001b[0m Trial 7 finished with value: 0.7683043585976091 and parameters: {'penalty': 'none', 'solver': 'sag', 'C': 0.22781800586894702}. Best is trial 5 with value: 0.7822531497793024.\u001b[0m\n",
      "\u001b[32m[I 2022-10-15 05:58:19,801]\u001b[0m Trial 8 finished with value: 0.7525843675694686 and parameters: {'penalty': 'none', 'solver': 'lbfgs', 'C': 0.5938941444523428}. Best is trial 5 with value: 0.7822531497793024.\u001b[0m\n",
      "\u001b[32m[I 2022-10-15 05:58:23,569]\u001b[0m Trial 9 finished with value: 0.7770103121618911 and parameters: {'penalty': 'l2', 'solver': 'sag', 'C': 0.5486291493328681}. Best is trial 5 with value: 0.7822531497793024.\u001b[0m\n",
      "\u001b[32m[I 2022-10-15 05:58:25,130]\u001b[0m Trial 10 finished with value: 0.7672726676557661 and parameters: {'penalty': 'l2', 'solver': 'lbfgs', 'C': 0.9920206076816713}. Best is trial 5 with value: 0.7822531497793024.\u001b[0m\n",
      "\u001b[32m[I 2022-10-15 05:58:28,251]\u001b[0m Trial 11 finished with value: 0.7819061658096611 and parameters: {'penalty': 'l2', 'solver': 'sag', 'C': 0.01364517892715758}. Best is trial 5 with value: 0.7822531497793024.\u001b[0m\n",
      "\u001b[32m[I 2022-10-15 05:58:31,440]\u001b[0m Trial 12 finished with value: 0.7834730023686095 and parameters: {'penalty': 'l2', 'solver': 'sag', 'C': 0.026638011435433928}. Best is trial 12 with value: 0.7834730023686095.\u001b[0m\n",
      "\u001b[32m[I 2022-10-15 05:58:34,626]\u001b[0m Trial 13 finished with value: 0.7843323376430046 and parameters: {'penalty': 'l2', 'solver': 'sag', 'C': 0.021613256729205478}. Best is trial 13 with value: 0.7843323376430046.\u001b[0m\n",
      "\u001b[32m[I 2022-10-15 05:58:37,871]\u001b[0m Trial 14 finished with value: 0.7799410379828533 and parameters: {'penalty': 'l2', 'solver': 'sag', 'C': 0.23420389790934387}. Best is trial 13 with value: 0.7843323376430046.\u001b[0m\n",
      "\u001b[32m[I 2022-10-15 05:58:41,316]\u001b[0m Trial 15 finished with value: 0.7809100508184703 and parameters: {'penalty': 'l2', 'solver': 'sag', 'C': 0.3039035897709038}. Best is trial 13 with value: 0.7843323376430046.\u001b[0m\n",
      "\u001b[32m[I 2022-10-15 05:58:44,591]\u001b[0m Trial 16 finished with value: 0.7810994966996103 and parameters: {'penalty': 'l2', 'solver': 'sag', 'C': 0.12929077308761044}. Best is trial 13 with value: 0.7843323376430046.\u001b[0m\n",
      "\u001b[32m[I 2022-10-15 05:58:48,061]\u001b[0m Trial 17 finished with value: 0.7743709186068224 and parameters: {'penalty': 'l2', 'solver': 'sag', 'C': 0.8643664475551558}. Best is trial 13 with value: 0.7843323376430046.\u001b[0m\n",
      "\u001b[32m[I 2022-10-15 05:58:51,891]\u001b[0m Trial 18 finished with value: 0.7805570856405831 and parameters: {'penalty': 'l2', 'solver': 'sag', 'C': 0.31814219907709435}. Best is trial 13 with value: 0.7843323376430046.\u001b[0m\n",
      "\u001b[32m[I 2022-10-15 05:58:55,682]\u001b[0m Trial 19 finished with value: 0.7839522925995215 and parameters: {'penalty': 'l2', 'solver': 'sag', 'C': 0.020834426917423873}. Best is trial 13 with value: 0.7843323376430046.\u001b[0m\n",
      "\u001b[32m[I 2022-10-15 05:58:58,726]\u001b[0m Trial 20 finished with value: 0.7819115523973019 and parameters: {'penalty': 'l2', 'solver': 'sag', 'C': 0.1689381468850914}. Best is trial 13 with value: 0.7843323376430046.\u001b[0m\n",
      "\u001b[32m[I 2022-10-15 05:59:01,691]\u001b[0m Trial 21 finished with value: 0.7843272983300491 and parameters: {'penalty': 'l2', 'solver': 'sag', 'C': 0.021143319057868305}. Best is trial 13 with value: 0.7843323376430046.\u001b[0m\n",
      "\u001b[32m[I 2022-10-15 05:59:04,540]\u001b[0m Trial 22 finished with value: 0.7828300776219926 and parameters: {'penalty': 'l2', 'solver': 'sag', 'C': 0.0814028842498872}. Best is trial 13 with value: 0.7843323376430046.\u001b[0m\n",
      "\u001b[32m[I 2022-10-15 05:59:07,516]\u001b[0m Trial 23 finished with value: 0.7799410379828533 and parameters: {'penalty': 'l2', 'solver': 'sag', 'C': 0.24131864147604834}. Best is trial 13 with value: 0.7843323376430046.\u001b[0m\n",
      "\u001b[32m[I 2022-10-15 05:59:11,365]\u001b[0m Trial 24 finished with value: 0.7813491504787413 and parameters: {'penalty': 'l2', 'solver': 'sag', 'C': 0.12241449440443539}. Best is trial 13 with value: 0.7843323376430046.\u001b[0m\n",
      "\u001b[32m[I 2022-10-15 05:59:14,395]\u001b[0m Trial 25 finished with value: 0.7790650146917366 and parameters: {'penalty': 'l2', 'solver': 'sag', 'C': 0.010183244357456869}. Best is trial 13 with value: 0.7843323376430046.\u001b[0m\n",
      "\u001b[32m[I 2022-10-15 05:59:17,357]\u001b[0m Trial 26 finished with value: 0.7683043585976091 and parameters: {'penalty': 'none', 'solver': 'sag', 'C': 0.41075135820473396}. Best is trial 13 with value: 0.7843323376430046.\u001b[0m\n",
      "\u001b[32m[I 2022-10-15 05:59:20,363]\u001b[0m Trial 27 finished with value: 0.7805570856405831 and parameters: {'penalty': 'l2', 'solver': 'sag', 'C': 0.3193173542381635}. Best is trial 13 with value: 0.7843323376430046.\u001b[0m\n",
      "\u001b[32m[I 2022-10-15 05:59:23,117]\u001b[0m Trial 28 finished with value: 0.7825124996447412 and parameters: {'penalty': 'l2', 'solver': 'sag', 'C': 0.16442165642762774}. Best is trial 13 with value: 0.7843323376430046.\u001b[0m\n",
      "\u001b[32m[I 2022-10-15 05:59:26,172]\u001b[0m Trial 29 finished with value: 0.7818787799331759 and parameters: {'penalty': 'l2', 'solver': 'sag', 'C': 0.06593295195621136}. Best is trial 13 with value: 0.7843323376430046.\u001b[0m\n",
      "\u001b[32m[I 2022-10-15 05:59:29,056]\u001b[0m Trial 30 finished with value: 0.7783607907056838 and parameters: {'penalty': 'l2', 'solver': 'sag', 'C': 0.4735114073963736}. Best is trial 13 with value: 0.7843323376430046.\u001b[0m\n",
      "\u001b[32m[I 2022-10-15 05:59:31,814]\u001b[0m Trial 31 finished with value: 0.7818044008231768 and parameters: {'penalty': 'l2', 'solver': 'sag', 'C': 0.012738090389119622}. Best is trial 13 with value: 0.7843323376430046.\u001b[0m\n",
      "\u001b[32m[I 2022-10-15 05:59:34,766]\u001b[0m Trial 32 finished with value: 0.7821241269004566 and parameters: {'penalty': 'l2', 'solver': 'sag', 'C': 0.07361750921536471}. Best is trial 13 with value: 0.7843323376430046.\u001b[0m\n",
      "\u001b[32m[I 2022-10-15 05:59:37,519]\u001b[0m Trial 33 finished with value: 0.7801607957437462 and parameters: {'penalty': 'l2', 'solver': 'sag', 'C': 0.21023866437618507}. Best is trial 13 with value: 0.7843323376430046.\u001b[0m\n",
      "\u001b[32m[I 2022-10-15 05:59:39,023]\u001b[0m Trial 34 finished with value: 0.7525843675694686 and parameters: {'penalty': 'none', 'solver': 'lbfgs', 'C': 0.08811580186943721}. Best is trial 13 with value: 0.7843323376430046.\u001b[0m\n",
      "\u001b[32m[I 2022-10-15 05:59:42,314]\u001b[0m Trial 35 finished with value: 0.7821387053530161 and parameters: {'penalty': 'l2', 'solver': 'sag', 'C': 0.1750162275178994}. Best is trial 13 with value: 0.7843323376430046.\u001b[0m\n",
      "\u001b[32m[I 2022-10-15 05:59:44,199]\u001b[0m Trial 36 finished with value: 0.7822561318245993 and parameters: {'penalty': 'l2', 'solver': 'lbfgs', 'C': 0.04250767594040492}. Best is trial 13 with value: 0.7843323376430046.\u001b[0m\n",
      "\u001b[32m[I 2022-10-15 05:59:47,813]\u001b[0m Trial 37 finished with value: 0.7683043585976091 and parameters: {'penalty': 'none', 'solver': 'sag', 'C': 0.11397725577254328}. Best is trial 13 with value: 0.7843323376430046.\u001b[0m\n",
      "\u001b[32m[I 2022-10-15 05:59:50,647]\u001b[0m Trial 38 finished with value: 0.780769740158036 and parameters: {'penalty': 'l2', 'solver': 'sag', 'C': 0.2964335846281239}. Best is trial 13 with value: 0.7843323376430046.\u001b[0m\n",
      "\u001b[32m[I 2022-10-15 05:59:52,315]\u001b[0m Trial 39 finished with value: 0.7750221410978894 and parameters: {'penalty': 'l2', 'solver': 'lbfgs', 'C': 0.39355243167462156}. Best is trial 13 with value: 0.7843323376430046.\u001b[0m\n",
      "\u001b[32m[I 2022-10-15 05:59:55,280]\u001b[0m Trial 40 finished with value: 0.7683043585976091 and parameters: {'penalty': 'none', 'solver': 'sag', 'C': 0.20044684280844643}. Best is trial 13 with value: 0.7843323376430046.\u001b[0m\n",
      "\u001b[32m[I 2022-10-15 05:59:58,592]\u001b[0m Trial 41 finished with value: 0.7828300776219926 and parameters: {'penalty': 'l2', 'solver': 'sag', 'C': 0.08150685858226492}. Best is trial 13 with value: 0.7843323376430046.\u001b[0m\n",
      "\u001b[32m[I 2022-10-15 06:00:01,787]\u001b[0m Trial 42 finished with value: 0.781889477972968 and parameters: {'penalty': 'l2', 'solver': 'sag', 'C': 0.06075929251600597}. Best is trial 13 with value: 0.7843323376430046.\u001b[0m\n",
      "\u001b[32m[I 2022-10-15 06:00:05,146]\u001b[0m Trial 43 finished with value: 0.7821747269152058 and parameters: {'penalty': 'l2', 'solver': 'sag', 'C': 0.1142833216160819}. Best is trial 13 with value: 0.7843323376430046.\u001b[0m\n",
      "\u001b[32m[I 2022-10-15 06:00:08,575]\u001b[0m Trial 44 finished with value: 0.7819275339311798 and parameters: {'penalty': 'l2', 'solver': 'sag', 'C': 0.044194187811424465}. Best is trial 13 with value: 0.7843323376430046.\u001b[0m\n",
      "\u001b[32m[I 2022-10-15 06:00:10,149]\u001b[0m Trial 45 finished with value: 0.7817914007827531 and parameters: {'penalty': 'l2', 'solver': 'lbfgs', 'C': 0.14116967468908187}. Best is trial 13 with value: 0.7843323376430046.\u001b[0m\n",
      "\u001b[32m[I 2022-10-15 06:00:13,188]\u001b[0m Trial 46 finished with value: 0.774606130342272 and parameters: {'penalty': 'l2', 'solver': 'sag', 'C': 0.812781641408441}. Best is trial 13 with value: 0.7843323376430046.\u001b[0m\n",
      "\u001b[32m[I 2022-10-15 06:00:16,380]\u001b[0m Trial 47 finished with value: 0.7806845240683329 and parameters: {'penalty': 'l2', 'solver': 'sag', 'C': 0.26194521192207554}. Best is trial 13 with value: 0.7843323376430046.\u001b[0m\n",
      "\u001b[32m[I 2022-10-15 06:00:19,319]\u001b[0m Trial 48 finished with value: 0.7683043585976091 and parameters: {'penalty': 'none', 'solver': 'sag', 'C': 0.015393459269110605}. Best is trial 13 with value: 0.7843323376430046.\u001b[0m\n",
      "\u001b[32m[I 2022-10-15 06:00:22,191]\u001b[0m Trial 49 finished with value: 0.7817623180369622 and parameters: {'penalty': 'l2', 'solver': 'sag', 'C': 0.0999357961495726}. Best is trial 13 with value: 0.7843323376430046.\u001b[0m\n"
     ]
    },
    {
     "name": "stdout",
     "output_type": "stream",
     "text": [
      "Wall time: 2min 24s\n"
     ]
    }
   ],
   "source": [
    "%%time\n",
    "# cоздаем объект исследования и запрашиваем максимизацию метрики\n",
    "study = optuna.create_study(study_name=\"LogisticRegression\", direction=\"maximize\")\n",
    "# Подбираем оптимальный набор значений гиперпараметров\n",
    "study.optimize(optuna_lr, n_trials=50)"
   ]
  },
  {
   "cell_type": "code",
   "execution_count": 74,
   "id": "b4aa9d79-d92a-4b2b-b11a-c048a763fa7c",
   "metadata": {
    "execution": {
     "iopub.execute_input": "2022-10-15T03:00:22.230469Z",
     "iopub.status.busy": "2022-10-15T03:00:22.230469Z",
     "iopub.status.idle": "2022-10-15T03:00:22.254447Z",
     "shell.execute_reply": "2022-10-15T03:00:22.253445Z",
     "shell.execute_reply.started": "2022-10-15T03:00:22.230469Z"
    },
    "tags": []
   },
   "outputs": [
    {
     "name": "stdout",
     "output_type": "stream",
     "text": [
      "Оптимальные значения гиперпараметров {'penalty': 'l2', 'solver': 'sag', 'C': 0.021613256729205478}\n",
      "f1_score на обучающем выборке: 0.78\n"
     ]
    }
   ],
   "source": [
    "# смотрим результаты на обучающем сете\n",
    "print(\"Оптимальные значения гиперпараметров {}\".format(study.best_params))\n",
    "print(\"f1_score на обучающем выборке: {:.2f}\".format(study.best_value))"
   ]
  },
  {
   "cell_type": "code",
   "execution_count": 75,
   "id": "9d453413-a9cd-48bf-8c14-4334f8aae14c",
   "metadata": {
    "execution": {
     "iopub.execute_input": "2022-10-15T03:00:22.262442Z",
     "iopub.status.busy": "2022-10-15T03:00:22.262442Z",
     "iopub.status.idle": "2022-10-15T03:00:28.048589Z",
     "shell.execute_reply": "2022-10-15T03:00:28.048589Z",
     "shell.execute_reply.started": "2022-10-15T03:00:22.262442Z"
    },
    "tags": []
   },
   "outputs": [
    {
     "name": "stdout",
     "output_type": "stream",
     "text": [
      "f1_score на тестовом наборе: 0.80\n"
     ]
    }
   ],
   "source": [
    "# считаем точность для тестовой выборки\n",
    "model = linear_model.LogisticRegression(**study.best_params, random_state=42, max_iter=1000)\n",
    "model.fit(X_train, y_train)\n",
    "y_test_pred = model.predict(X_test)\n",
    "print('f1_score на тестовом наборе: {:.2f}'.format(metrics.f1_score(y_test, y_test_pred)))"
   ]
  },
  {
   "cell_type": "markdown",
   "id": "e151f78a-f067-44b6-8af3-c4d98ca4c952",
   "metadata": {},
   "source": [
    "Использование Optuna не улучшило предсказательную силу модели полученной с помощью Hyperopt"
   ]
  },
  {
   "cell_type": "markdown",
   "id": "32119e0c-0c45-43c3-a008-2f846a754126",
   "metadata": {},
   "source": [
    "### Random Forest "
   ]
  },
  {
   "cell_type": "markdown",
   "id": "0c547f3b-456d-417f-b65a-2ae16b6750dd",
   "metadata": {},
   "source": [
    "Теперь повторим всё ранее сделанное с моделью построенной методом \"случайного леса\" вместо логистической регрессии."
   ]
  },
  {
   "cell_type": "code",
   "execution_count": 76,
   "id": "69fda9ed-778a-4e74-8b7e-b2515ad742b1",
   "metadata": {
    "execution": {
     "iopub.execute_input": "2022-10-15T03:00:28.069582Z",
     "iopub.status.busy": "2022-10-15T03:00:28.069582Z",
     "iopub.status.idle": "2022-10-15T03:00:29.757060Z",
     "shell.execute_reply": "2022-10-15T03:00:29.757060Z",
     "shell.execute_reply.started": "2022-10-15T03:00:28.069582Z"
    },
    "tags": []
   },
   "outputs": [
    {
     "name": "stdout",
     "output_type": "stream",
     "text": [
      "Train: 1.00\n",
      "Test: 0.81\n"
     ]
    }
   ],
   "source": [
    "#Создаём модель с использованием \"случайного леса\" со стандартными значениями гиперпараметров.\n",
    "\n",
    "rf = ensemble.RandomForestClassifier(random_state=42)\n",
    "rf.fit(X_train, y_train)\n",
    "\n",
    "y_train_pred = rf.predict(X_train)\n",
    "print('Train: {:.2f}'.format(metrics.f1_score(y_train, y_train_pred)))\n",
    "y_test_pred = rf.predict(X_test)\n",
    "print('Test: {:.2f}'.format(metrics.f1_score(y_test, y_test_pred)))"
   ]
  },
  {
   "cell_type": "markdown",
   "id": "365c8387-34d8-4bb8-8b88-a7605d0f76f5",
   "metadata": {},
   "source": [
    "Мы видим резхкое улучшение метрики как для обучающей, так и для тестовой группы."
   ]
  },
  {
   "cell_type": "markdown",
   "id": "8314772e-a068-454a-8f7c-2107a8621d4d",
   "metadata": {
    "execution": {
     "iopub.execute_input": "2022-10-15T01:50:34.632907Z",
     "iopub.status.busy": "2022-10-15T01:50:34.632907Z",
     "iopub.status.idle": "2022-10-15T01:50:34.651884Z",
     "shell.execute_reply": "2022-10-15T01:50:34.650902Z",
     "shell.execute_reply.started": "2022-10-15T01:50:34.632907Z"
    },
    "tags": []
   },
   "source": [
    "#### GridSearchCV"
   ]
  },
  {
   "cell_type": "code",
   "execution_count": 77,
   "id": "cf2a1a72-25f4-425a-ae8d-77d69d5559b4",
   "metadata": {
    "execution": {
     "iopub.execute_input": "2022-10-15T03:00:29.763059Z",
     "iopub.status.busy": "2022-10-15T03:00:29.763059Z",
     "iopub.status.idle": "2022-10-15T03:00:29.774037Z",
     "shell.execute_reply": "2022-10-15T03:00:29.773038Z",
     "shell.execute_reply.started": "2022-10-15T03:00:29.763059Z"
    },
    "tags": []
   },
   "outputs": [],
   "source": [
    "param_grid = {'n_estimators': list(range(100, 300, 30)),\n",
    "              'min_samples_leaf': list(np.linspace(2, 10, 1, dtype=int)),\n",
    "              'max_depth': list(np.linspace(20, 40, 5, dtype=int))}\n",
    "            \n",
    "grid_search_forest = GridSearchCV(\n",
    "    estimator=ensemble.RandomForestClassifier(random_state=42), \n",
    "    param_grid=param_grid, \n",
    "    cv=5, \n",
    "    n_jobs = -1)  "
   ]
  },
  {
   "cell_type": "code",
   "execution_count": 78,
   "id": "9f25035b-9ba0-4a05-9973-e8ecd2f72ede",
   "metadata": {
    "execution": {
     "iopub.execute_input": "2022-10-15T03:00:29.781037Z",
     "iopub.status.busy": "2022-10-15T03:00:29.781037Z",
     "iopub.status.idle": "2022-10-15T03:02:10.352926Z",
     "shell.execute_reply": "2022-10-15T03:02:10.351926Z",
     "shell.execute_reply.started": "2022-10-15T03:00:29.781037Z"
    },
    "tags": []
   },
   "outputs": [
    {
     "name": "stdout",
     "output_type": "stream",
     "text": [
      "f1_score на обучающем наборе: 0.99\n",
      "f1_score на тестовом наборе: 0.82\n",
      "Оптимальные значения гиперпараметров: {'max_depth': 25, 'min_samples_leaf': 2, 'n_estimators': 280}\n",
      "Wall time: 1min 40s\n"
     ]
    }
   ],
   "source": [
    "%%time\n",
    "grid_search_forest.fit(X_train, y_train) \n",
    "y_train_pred = grid_search_forest.predict(X_train)\n",
    "print('f1_score на обучающем наборе: {:.2f}'.format(metrics.f1_score(y_train, y_train_pred)))\n",
    "y_test_pred = grid_search_forest.predict(X_test)\n",
    "print('f1_score на тестовом наборе: {:.2f}'.format(metrics.f1_score(y_test, y_test_pred)))\n",
    "print(\"Оптимальные значения гиперпараметров: {}\".format(grid_search_forest.best_params_))"
   ]
  },
  {
   "cell_type": "markdown",
   "id": "bf15bc63-443b-4467-b623-13bf67ab9523",
   "metadata": {
    "execution": {
     "iopub.execute_input": "2022-10-15T01:50:34.632907Z",
     "iopub.status.busy": "2022-10-15T01:50:34.632907Z",
     "iopub.status.idle": "2022-10-15T01:50:34.651884Z",
     "shell.execute_reply": "2022-10-15T01:50:34.650902Z",
     "shell.execute_reply.started": "2022-10-15T01:50:34.632907Z"
    },
    "tags": []
   },
   "source": [
    "Целевая метрика выросла до 0.82"
   ]
  },
  {
   "cell_type": "markdown",
   "id": "8d4f76ad-f970-4505-b3c8-efd379c7044f",
   "metadata": {
    "execution": {
     "iopub.execute_input": "2022-10-15T01:50:34.632907Z",
     "iopub.status.busy": "2022-10-15T01:50:34.632907Z",
     "iopub.status.idle": "2022-10-15T01:50:34.651884Z",
     "shell.execute_reply": "2022-10-15T01:50:34.650902Z",
     "shell.execute_reply.started": "2022-10-15T01:50:34.632907Z"
    },
    "tags": []
   },
   "source": [
    "#### Randomized SearchCV"
   ]
  },
  {
   "cell_type": "code",
   "execution_count": 79,
   "id": "790eafad-4081-42f3-8e04-b8c980b76bb8",
   "metadata": {
    "execution": {
     "iopub.execute_input": "2022-10-15T03:02:10.381918Z",
     "iopub.status.busy": "2022-10-15T03:02:10.381918Z",
     "iopub.status.idle": "2022-10-15T03:02:10.400911Z",
     "shell.execute_reply": "2022-10-15T03:02:10.399911Z",
     "shell.execute_reply.started": "2022-10-15T03:02:10.381918Z"
    },
    "tags": []
   },
   "outputs": [],
   "source": [
    "param_grid = {'n_estimators': list(range(100, 300, 30)),\n",
    "              'min_samples_leaf': list(np.linspace(2, 10, 1, dtype=int)),\n",
    "              'max_depth': list(np.linspace(20, 40, 10, dtype=int))\n",
    "              }\n",
    "            \n",
    "random_search_forest = RandomizedSearchCV(\n",
    "    estimator=ensemble.RandomForestClassifier(random_state=42), \n",
    "    param_distributions=param_grid, \n",
    "    cv=5,\n",
    "    n_iter = 50, \n",
    "    n_jobs = -1) "
   ]
  },
  {
   "cell_type": "code",
   "execution_count": 80,
   "id": "ec9fd62f-c949-4221-8fd1-77bb73861839",
   "metadata": {
    "execution": {
     "iopub.execute_input": "2022-10-15T03:02:10.407908Z",
     "iopub.status.busy": "2022-10-15T03:02:10.407908Z",
     "iopub.status.idle": "2022-10-15T03:04:46.140374Z",
     "shell.execute_reply": "2022-10-15T03:04:46.140374Z",
     "shell.execute_reply.started": "2022-10-15T03:02:10.407908Z"
    },
    "tags": []
   },
   "outputs": [
    {
     "name": "stdout",
     "output_type": "stream",
     "text": [
      "f1_score на обучающем наборе: 0.99\n",
      "f1_score на тестовом наборе: 0.82\n",
      "Наилучшие значения гиперпараметров: {'n_estimators': 280, 'min_samples_leaf': 2, 'max_depth': 28}\n",
      "Wall time: 2min 35s\n"
     ]
    }
   ],
   "source": [
    "%%time \n",
    "random_search_forest.fit(X_train, y_train) \n",
    "y_train_pred = random_search_forest.predict(X_train)\n",
    "print('f1_score на обучающем наборе: {:.2f}'.format(metrics.f1_score(y_train, y_train_pred)))\n",
    "y_test_pred = random_search_forest.predict(X_test)\n",
    "print('f1_score на тестовом наборе: {:.2f}'.format(metrics.f1_score(y_test, y_test_pred)))\n",
    "print(\"Наилучшие значения гиперпараметров: {}\".format(random_search_forest.best_params_))"
   ]
  },
  {
   "cell_type": "markdown",
   "id": "c44b73d0-99d5-4eb9-8268-87565d0b7961",
   "metadata": {
    "tags": []
   },
   "source": [
    "Значение метрика F1 улучшена до 0.83. "
   ]
  },
  {
   "cell_type": "markdown",
   "id": "ab5cbbe9-ca60-488c-a027-014b40630d90",
   "metadata": {
    "tags": []
   },
   "source": [
    "#### Hyperopt"
   ]
  },
  {
   "cell_type": "code",
   "execution_count": 81,
   "id": "5600abb9-1b39-40e5-a385-7fd18b8b251d",
   "metadata": {
    "execution": {
     "iopub.execute_input": "2022-10-15T03:04:46.145373Z",
     "iopub.status.busy": "2022-10-15T03:04:46.145373Z",
     "iopub.status.idle": "2022-10-15T03:04:46.170365Z",
     "shell.execute_reply": "2022-10-15T03:04:46.170365Z",
     "shell.execute_reply.started": "2022-10-15T03:04:46.145373Z"
    },
    "tags": []
   },
   "outputs": [],
   "source": [
    "space={'n_estimators': hp.quniform('n_estimators', 100, 300, 30),\n",
    "       'max_depth' : hp.quniform('max_depth', 20, 40, 10),\n",
    "       'min_samples_leaf': hp.quniform('min_samples_leaf', 2, 10, 1)}\n",
    "\n",
    "random_state = 42\n",
    "\n",
    "def hyperopt_rf(params, cv=5, X=X_train, y=y_train, random_state=random_state):\n",
    "    params = {'n_estimators': int(params['n_estimators']), \n",
    "              'max_depth': int(params['max_depth']), \n",
    "             'min_samples_leaf': int(params['min_samples_leaf'])              }\n",
    "  \n",
    "    model = ensemble.RandomForestClassifier(**params, random_state=random_state)\n",
    "    score = cross_val_score(model, X, y, cv=cv, scoring=\"f1\", n_jobs=-1).mean()\n",
    "\n",
    "    return -score"
   ]
  },
  {
   "cell_type": "code",
   "execution_count": null,
   "id": "213f921a-cd27-4bc1-88ed-0e0035a64e81",
   "metadata": {
    "execution": {
     "iopub.execute_input": "2022-10-15T03:04:46.175363Z",
     "iopub.status.busy": "2022-10-15T03:04:46.175363Z"
    },
    "tags": []
   },
   "outputs": [
    {
     "name": "stdout",
     "output_type": "stream",
     "text": [
      "  0%|          | 0/20 [00:00<?, ?trial/s, best loss=?]"
     ]
    }
   ],
   "source": [
    "%%time\n",
    "trials = Trials()\n",
    "\n",
    "best=fmin(hyperopt_rf,\n",
    "          space=space,\n",
    "          algo=tpe.suggest,\n",
    "          max_evals=20,\n",
    "          trials=trials,\n",
    "          rstate=np.random.default_rng(random_state))\n",
    "print(\"Наилучшие значения гиперпараметров {}\".format(best))"
   ]
  },
  {
   "cell_type": "code",
   "execution_count": null,
   "id": "deccc842-7bf9-41fd-96e1-6f880fcd2f39",
   "metadata": {
    "tags": []
   },
   "outputs": [],
   "source": []
  },
  {
   "cell_type": "code",
   "execution_count": null,
   "id": "746d6d29-9797-4a9c-a06d-226cf9e89246",
   "metadata": {
    "tags": []
   },
   "outputs": [],
   "source": [
    "# рассчитаем точность для тестовой выборки\n",
    "model = ensemble.RandomForestClassifier(\n",
    "    random_state=random_state, \n",
    "    n_estimators=int(best['n_estimators']),\n",
    "    max_depth=int(best['max_depth']),\n",
    "    min_samples_leaf=int(best['min_samples_leaf'])\n",
    ")\n",
    "model.fit(X_train, y_train)\n",
    "y_train_pred = model.predict(X_train)\n",
    "print('f1_score на обучающем наборе: {:.2f}'.format(metrics.f1_score(y_train, y_train_pred)))\n",
    "y_test_pred = model.predict(X_test)\n",
    "print('f1_score на тестовом наборе: {:.2f}'.format(metrics.f1_score(y_test, y_test_pred)))"
   ]
  },
  {
   "cell_type": "markdown",
   "id": "bb11b45c-76d2-4215-bb6a-28c116def705",
   "metadata": {
    "execution": {
     "iopub.execute_input": "2022-10-15T01:50:34.632907Z",
     "iopub.status.busy": "2022-10-15T01:50:34.632907Z",
     "iopub.status.idle": "2022-10-15T01:50:34.651884Z",
     "shell.execute_reply": "2022-10-15T01:50:34.650902Z",
     "shell.execute_reply.started": "2022-10-15T01:50:34.632907Z"
    },
    "tags": []
   },
   "source": [
    "Целевая метрика не изменила своего значения. "
   ]
  },
  {
   "cell_type": "markdown",
   "id": "0b288008-14c9-4a1e-9883-41fadf00c421",
   "metadata": {
    "execution": {
     "iopub.execute_input": "2022-10-15T02:11:22.964405Z",
     "iopub.status.busy": "2022-10-15T02:11:22.964405Z",
     "iopub.status.idle": "2022-10-15T02:11:22.983401Z",
     "shell.execute_reply": "2022-10-15T02:11:22.982398Z",
     "shell.execute_reply.started": "2022-10-15T02:11:22.964405Z"
    },
    "tags": []
   },
   "source": [
    "#### Optuna"
   ]
  },
  {
   "cell_type": "code",
   "execution_count": null,
   "id": "41813b8b-f8ed-403e-b634-05cbc4ab7bfb",
   "metadata": {
    "tags": []
   },
   "outputs": [],
   "source": [
    "def optuna_rf(trial):\n",
    "    n_estimators = trial.suggest_int('n_estimators', 100, 310, 30)\n",
    "    max_depth = trial.suggest_int('max_depth', 20, 40, 10)\n",
    "    min_samples_leaf = trial.suggest_int('min_samples_leaf', 2, 10, 1)\n",
    "    model = ensemble.RandomForestClassifier(n_estimators=n_estimators,\n",
    "                                          max_depth=max_depth,\n",
    "                                          min_samples_leaf=min_samples_leaf,\n",
    "                                          random_state=42)\n",
    "  # обучаем модель с помощью кросс-валидации\n",
    "  # применим  cross validation с тем же количеством фолдов\n",
    "    score = cross_val_score(model, X_train, y_train, cv=5, scoring=\"f1\", n_jobs=-1).mean()\n",
    "    \n",
    "    return score"
   ]
  },
  {
   "cell_type": "code",
   "execution_count": null,
   "id": "36fb9353-0154-4777-b4a9-3073edb3dd7b",
   "metadata": {
    "tags": []
   },
   "outputs": [],
   "source": [
    "%%time\n",
    "study = optuna.create_study(study_name=\"RandomForestClassifier\", direction=\"maximize\")\n",
    "study.optimize(optuna_rf, n_trials=50)"
   ]
  },
  {
   "cell_type": "code",
   "execution_count": null,
   "id": "8e391f60-01bc-4ded-90f9-483d8592e269",
   "metadata": {
    "tags": []
   },
   "outputs": [],
   "source": [
    "# Оценка по обучающей выборке\n",
    "print(\"Оптимальные значения гиперпараметров {}\".format(study.best_params))\n",
    "print(\"f1_score на обучающем наборе: {:.2f}\".format(study.best_value))"
   ]
  },
  {
   "cell_type": "code",
   "execution_count": null,
   "id": "5b0249e7-b271-4aa9-9f03-1376d6a37ff1",
   "metadata": {},
   "outputs": [],
   "source": []
  },
  {
   "cell_type": "code",
   "execution_count": null,
   "id": "e65fff3e-6548-40c4-b560-b5bf4fa29172",
   "metadata": {
    "tags": []
   },
   "outputs": [],
   "source": [
    "# оценка по тестовой выборки\n",
    "model = ensemble.RandomForestClassifier(**study.best_params,random_state=42)\n",
    "model.fit(X_train, y_train)\n",
    "y_train_pred = model.predict(X_train)\n",
    "print('f1_score на обучающем наборе: {:.2f}'.format(metrics.f1_score(y_train, y_train_pred)))\n",
    "y_test_pred = model.predict(X_test)\n",
    "print('f1_score на тесте: {:.2f}'.format(metrics.f1_score(y_test, y_test_pred)))"
   ]
  },
  {
   "cell_type": "code",
   "execution_count": null,
   "id": "295c59ff-99c6-4dac-91fe-797714b02fbd",
   "metadata": {},
   "outputs": [],
   "source": []
  },
  {
   "cell_type": "markdown",
   "id": "3b8e2880-30c7-4c95-90fb-e34d8f458027",
   "metadata": {
    "execution": {
     "iopub.execute_input": "2022-10-15T02:27:51.964160Z",
     "iopub.status.busy": "2022-10-15T02:27:51.963160Z",
     "iopub.status.idle": "2022-10-15T02:27:51.979155Z",
     "shell.execute_reply": "2022-10-15T02:27:51.978156Z",
     "shell.execute_reply.started": "2022-10-15T02:27:51.964160Z"
    }
   },
   "source": [
    "Целевая метрика не улучшилась. Максимальное значение метрики F1 (0.83) на тестовой выборке наблюдается для моделей случайного леса,\n",
    "построенных на гиперпараметрах полученных с помощью случайного поиска или Hyperopt-а. При этом, более оперативно сработал Hyperopt (на 64% быстрее)."
   ]
  },
  {
   "cell_type": "code",
   "execution_count": null,
   "id": "4b620255-62c2-4c8d-b64c-e6e314d13729",
   "metadata": {
    "tags": []
   },
   "outputs": [],
   "source": [
    "100-round(51/140*100, 2)"
   ]
  },
  {
   "cell_type": "code",
   "execution_count": null,
   "id": "031bd6ab-52fd-4844-824d-fae1e5cc94f6",
   "metadata": {},
   "outputs": [],
   "source": []
  },
  {
   "cell_type": "code",
   "execution_count": null,
   "id": "4c99ec3b-4305-4e9a-bcc8-fb216516bc1c",
   "metadata": {},
   "outputs": [],
   "source": []
  },
  {
   "cell_type": "code",
   "execution_count": null,
   "id": "50127de0-616d-40f9-bec2-f5bff8dcdc25",
   "metadata": {},
   "outputs": [],
   "source": []
  },
  {
   "cell_type": "code",
   "execution_count": null,
   "id": "b3dc973f-abd1-41d5-8f9b-aec4a04e233f",
   "metadata": {},
   "outputs": [],
   "source": []
  },
  {
   "cell_type": "code",
   "execution_count": null,
   "id": "dc011f4e-c4ef-4839-becf-1a481bfbe882",
   "metadata": {},
   "outputs": [],
   "source": []
  },
  {
   "cell_type": "code",
   "execution_count": null,
   "id": "1ae0978a-7ab6-43b6-ab05-2404f6298128",
   "metadata": {},
   "outputs": [],
   "source": []
  },
  {
   "cell_type": "code",
   "execution_count": null,
   "id": "4cca72da-baca-41a3-a237-d5c3fcc0f8a7",
   "metadata": {},
   "outputs": [],
   "source": []
  }
 ],
 "metadata": {
  "kernelspec": {
   "display_name": "Python 3 (ipykernel)",
   "language": "python",
   "name": "python3"
  },
  "language_info": {
   "codemirror_mode": {
    "name": "ipython",
    "version": 3
   },
   "file_extension": ".py",
   "mimetype": "text/x-python",
   "name": "python",
   "nbconvert_exporter": "python",
   "pygments_lexer": "ipython3",
   "version": "3.9.12"
  }
 },
 "nbformat": 4,
 "nbformat_minor": 5
}
